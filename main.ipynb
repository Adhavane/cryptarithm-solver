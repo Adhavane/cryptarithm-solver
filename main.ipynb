{
 "cells": [
  {
   "cell_type": "code",
   "execution_count": 1,
   "metadata": {},
   "outputs": [],
   "source": [
    "import re\n",
    "from typing import Dict, Generator, List, Set"
   ]
  },
  {
   "cell_type": "code",
   "execution_count": null,
   "metadata": {},
   "outputs": [
    {
     "ename": "",
     "evalue": "",
     "output_type": "error",
     "traceback": [
      "\u001b[1;31mThe Kernel crashed while executing code in the current cell or a previous cell. \n",
      "\u001b[1;31mPlease review the code in the cell(s) to identify a possible cause of the failure. \n",
      "\u001b[1;31mClick <a href='https://aka.ms/vscodeJupyterKernelCrash'>here</a> for more info. \n",
      "\u001b[1;31mView Jupyter <a href='command:jupyter.viewOutput'>log</a> for further details."
     ]
    }
   ],
   "source": [
    "from pyswip import Prolog"
   ]
  },
  {
   "cell_type": "code",
   "execution_count": 14,
   "metadata": {},
   "outputs": [
    {
     "name": "stdout",
     "output_type": "stream",
     "text": [
      "a\n",
      "b\n"
     ]
    },
    {
     "ename": "StopIteration",
     "evalue": "",
     "output_type": "error",
     "traceback": [
      "\u001b[1;31m---------------------------------------------------------------------------\u001b[0m",
      "\u001b[1;31mStopIteration\u001b[0m                             Traceback (most recent call last)",
      "Cell \u001b[1;32mIn[14], line 10\u001b[0m\n\u001b[0;32m      8\u001b[0m \u001b[38;5;28mprint\u001b[39m(\u001b[38;5;28mnext\u001b[39m(gen))\n\u001b[0;32m      9\u001b[0m \u001b[38;5;28mprint\u001b[39m(\u001b[38;5;28mnext\u001b[39m(gen))\n\u001b[1;32m---> 10\u001b[0m \u001b[38;5;28mprint\u001b[39m(\u001b[38;5;28;43mnext\u001b[39;49m\u001b[43m(\u001b[49m\u001b[43mgen\u001b[49m\u001b[43m)\u001b[49m)\n",
      "\u001b[1;31mStopIteration\u001b[0m: "
     ]
    }
   ],
   "source": [
    "def sample_generator() -> Generator[str, None, None]:\n",
    "    data = ['a', 'b']\n",
    "    for i in data:\n",
    "        yield i\n",
    "\n",
    "gen = sample_generator()\n",
    "\n",
    "print(next(gen))\n",
    "print(next(gen))\n",
    "print(next(gen))"
   ]
  },
  {
   "cell_type": "code",
   "execution_count": 2,
   "metadata": {},
   "outputs": [
    {
     "data": {
      "text/plain": [
       "[{'X': 'john'}, {'X': 'gina'}]"
      ]
     },
     "execution_count": 2,
     "metadata": {},
     "output_type": "execute_result"
    }
   ],
   "source": [
    "prolog = Prolog()\n",
    "prolog.assertz(\"father(michael,john)\")\n",
    "prolog.assertz(\"father(michael,gina)\")\n",
    "list(prolog.query(\"father(michael,X)\"))  # [{'X': 'john'}, {'X': 'gina'}]"
   ]
  },
  {
   "cell_type": "code",
   "execution_count": 3,
   "metadata": {},
   "outputs": [
    {
     "name": "stdout",
     "output_type": "stream",
     "text": [
      "[]\n",
      "[{'X': 'john'}, {'X': 'gina'}]\n",
      "[]\n",
      "[{'X': 'john'}, {'X': 'gina'}]\n"
     ]
    }
   ],
   "source": [
    "prolog1 = Prolog()\n",
    "prolog2 = Prolog()\n",
    "\n",
    "prolog1.consult(\"knowledge_base1.pl\")\n",
    "prolog2.consult(\"knowledge_base2.pl\")\n",
    "\n",
    "print(list(prolog1.query(\"father(michael,X)\")))\n",
    "print(list(prolog2.query(\"father(peter,X)\")))\n",
    "print(list(prolog1.query(\"father(michael,X)\")))\n",
    "print(list(prolog2.query(\"father(peter,X)\")))"
   ]
  },
  {
   "cell_type": "code",
   "execution_count": 2,
   "metadata": {},
   "outputs": [],
   "source": [
    "import pyswip, ctypes\n",
    "\n",
    "class PrologMT(pyswip.Prolog):\n",
    "    \"\"\"Multi-threaded (one-to-one) pyswip.Prolog ad-hoc reimpl\"\"\"\n",
    "    _swipl = pyswip.core._lib\n",
    "\n",
    "    PL_thread_self = _swipl.PL_thread_self\n",
    "    PL_thread_self.restype = ctypes.c_int\n",
    "\n",
    "    PL_thread_attach_engine = _swipl.PL_thread_attach_engine\n",
    "    PL_thread_attach_engine.argtypes = [ctypes.c_void_p]\n",
    "    PL_thread_attach_engine.restype = ctypes.c_int\n",
    "\n",
    "    @classmethod\n",
    "    def _init_prolog_thread(cls):\n",
    "        pengine_id = cls.PL_thread_self()\n",
    "        if (pengine_id == -1):\n",
    "            pengine_id = cls.PL_thread_attach_engine(None)\n",
    "            print(\"{INFO} attach pengine to thread: %d\" % pengine_id)\n",
    "        if (pengine_id == -1):\n",
    "            raise pyswip.prolog.PrologError(\"Unable to attach new Prolog engine to the thread\")\n",
    "        elif (pengine_id == -2):\n",
    "            print(\"{WARN} Single-threaded swipl build, beware!\")\n",
    "\n",
    "    class _QueryWrapper(pyswip.Prolog._QueryWrapper):\n",
    "        def __call__(self, *args, **kwargs):\n",
    "            PrologMT._init_prolog_thread()\n",
    "            return super().__call__(*args, **kwargs)"
   ]
  },
  {
   "cell_type": "code",
   "execution_count": 13,
   "metadata": {},
   "outputs": [
    {
     "name": "stdout",
     "output_type": "stream",
     "text": [
      "{INFO} attach pengine to thread: 20\n",
      "{INFO} attach pengine to thread: 21\n",
      "[{'X': 'bob'}, {'X': 'brian'}]thread2\n",
      "[{'X': 'alison'}]\n"
     ]
    }
   ],
   "source": [
    "# For each Prolog() instance, a new thread is created\n",
    "from threading import Thread\n",
    "\n",
    "def run_prolog_thread():\n",
    "    prolog = PrologMT()\n",
    "    prolog.consult(\"knowledge_base1.pl\")\n",
    "    print(list(prolog.query(\"father(michael,X)\")))\n",
    "\n",
    "def run_prolog_thread2():\n",
    "    prolog = PrologMT()\n",
    "    prolog.consult(\"knowledge_base2.pl\")\n",
    "    print(str(list(prolog.query(\"father(peter,X)\"))) + 'thread2')\n",
    "\n",
    "\n",
    "thread = Thread(target=run_prolog_thread)\n",
    "thread2 = Thread(target=run_prolog_thread2)\n",
    "thread.start()\n",
    "thread2.start()\n",
    "thread.join()\n",
    "thread2.join()"
   ]
  },
  {
   "cell_type": "code",
   "execution_count": 1,
   "metadata": {},
   "outputs": [
    {
     "name": "stdout",
     "output_type": "stream",
     "text": [
      "[{'X': 'first'}, {'X': 'second'}, {'X': 'third'}]\n"
     ]
    }
   ],
   "source": [
    "# Python using the swiplserver library\n",
    "from swiplserver import PrologMQI, PrologThread\n",
    "\n",
    "with PrologMQI() as mqi:\n",
    "    with mqi.create_thread() as prolog_thread:\n",
    "        result = prolog_thread.query(\"member(X, [first, second, third]).\")\n",
    "        print(result)"
   ]
  },
  {
   "cell_type": "code",
   "execution_count": 6,
   "metadata": {},
   "outputs": [
    {
     "name": "stdout",
     "output_type": "stream",
     "text": [
      "[{'X': 'aaron'}, {'X': 'alison'}]\n",
      "[{'X': 'bob'}, {'X': 'brian'}]\n"
     ]
    }
   ],
   "source": [
    "with PrologMQI() as mqi:\n",
    "    with mqi.create_thread() as prolog_thread:\n",
    "        prolog_thread.query(\"assert(father(michael,aaron)).\")\n",
    "        prolog_thread.query(\"assert(father(michael,alison)).\")\n",
    "        result = prolog_thread.query(\"father(michael,X).\")\n",
    "        print(result)\n",
    "\n",
    "with PrologMQI() as mqi:\n",
    "    with mqi.create_thread() as prolog_thread:\n",
    "        prolog_thread.query(\"assert(father(peter,bob)).\")\n",
    "        prolog_thread.query(\"assert(father(peter,brian)).\")\n",
    "        result = prolog_thread.query(\"father(peter,X).\")\n",
    "        print(result)"
   ]
  },
  {
   "cell_type": "code",
   "execution_count": 10,
   "metadata": {},
   "outputs": [
    {
     "name": "stdout",
     "output_type": "stream",
     "text": [
      "[{'X': 'aaron'}, {'X': 'alison'}]\n",
      "[{'X': 'bob'}, {'X': 'brian'}]\n"
     ]
    }
   ],
   "source": [
    "with PrologMQI() as mqi:\n",
    "    with mqi.create_thread() as prolog_thread:\n",
    "        prolog_thread.query(\"consult('knowledge_base1.pl').\")\n",
    "        result = prolog_thread.query(\"father(michael,X).\")\n",
    "        print(result)\n",
    "\n",
    "with PrologMQI() as mqi:\n",
    "    with mqi.create_thread() as prolog_thread:\n",
    "        prolog_thread.query(\"consult('knowledge_base2.pl').\")\n",
    "        result = prolog_thread.query(\"father(peter,X).\")\n",
    "        print(result)"
   ]
  },
  {
   "cell_type": "code",
   "execution_count": 13,
   "metadata": {},
   "outputs": [],
   "source": [
    "def foo(x):\n",
    "    print(x)\n"
   ]
  },
  {
   "cell_type": "code",
   "execution_count": 1,
   "metadata": {},
   "outputs": [],
   "source": [
    "from multiprocessing import Pool\n",
    "\n",
    "def f(x):\n",
    "    return x*x\n",
    "\n",
    "if __name__ == '__main__':\n",
    "    with Pool(5) as p:\n",
    "        print(p.map(f, [1, 2, 3]))"
   ]
  }
 ],
 "metadata": {
  "kernelspec": {
   "display_name": ".venv",
   "language": "python",
   "name": "python3"
  },
  "language_info": {
   "codemirror_mode": {
    "name": "ipython",
    "version": 3
   },
   "file_extension": ".py",
   "mimetype": "text/x-python",
   "name": "python",
   "nbconvert_exporter": "python",
   "pygments_lexer": "ipython3",
   "version": "3.10.11"
  }
 },
 "nbformat": 4,
 "nbformat_minor": 2
}

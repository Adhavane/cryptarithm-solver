{
 "cells": [
  {
   "cell_type": "code",
   "execution_count": 7,
   "metadata": {},
   "outputs": [
    {
     "name": "stdout",
     "output_type": "stream",
     "text": [
      "int\n",
      "str\n",
      "str\n"
     ]
    },
    {
     "data": {
      "text/plain": [
       "<__main__.A at 0x11bbfdd3eb0>"
      ]
     },
     "execution_count": 7,
     "metadata": {},
     "output_type": "execute_result"
    }
   ],
   "source": [
    "from multipledispatch import dispatch\n",
    "\n",
    "class A:\n",
    "    @dispatch(int)\n",
    "    def __init__(self, x):\n",
    "        print(\"int\")\n",
    "        self.__init__(str(x))\n",
    "        \n",
    "    @dispatch(str)\n",
    "    def __init__(self, x):\n",
    "        print(\"str\")\n",
    "        self.x = x\n",
    "\n",
    "A(1)\n",
    "A(\"1\")"
   ]
  },
  {
   "cell_type": "code",
   "execution_count": 8,
   "metadata": {},
   "outputs": [
    {
     "name": "stdout",
     "output_type": "stream",
     "text": [
      "[['A_lowercase'], ['B'], ['C']]\n",
      "{'B', 'A_lowercase', 'C'}\n",
      "{'B', 'A_lowercase', 'C'}\n"
     ]
    }
   ],
   "source": [
    "from crypthmik.utils import PrologCryptarithm, Cryptarithm\n",
    "from crypthmik.solve import GenerateAndTest, Enumerate, ConstraintProgramming\n",
    "\n",
    "cryptarithm = Cryptarithm(\"a * B = C\", case_sensitive=True)\n",
    "pl_cryptarithm = PrologCryptarithm(cryptarithm)\n",
    "\n",
    "print(pl_cryptarithm.words)\n",
    "print(pl_cryptarithm.letters)\n",
    "print(pl_cryptarithm.leading_letters)"
   ]
  },
  {
   "cell_type": "code",
   "execution_count": 9,
   "metadata": {},
   "outputs": [
    {
     "name": "stdout",
     "output_type": "stream",
     "text": [
      "[{'a': 2, 'B': 3, 'C': 6}, {'a': 2, 'B': 4, 'C': 8}, {'a': 3, 'B': 2, 'C': 6}, {'a': 4, 'B': 2, 'C': 8}]\n"
     ]
    }
   ],
   "source": [
    "solver = ConstraintProgramming()\n",
    "print(list(solver.solve(cryptarithm)))\n",
    "# %timeit list(solver.solve(cryptarithm))"
   ]
  },
  {
   "cell_type": "code",
   "execution_count": 10,
   "metadata": {},
   "outputs": [
    {
     "name": "stdout",
     "output_type": "stream",
     "text": [
      "[{'a': 3, 'B': 2, 'C': 6}, {'a': 4, 'B': 2, 'C': 8}, {'a': 2, 'B': 3, 'C': 6}, {'a': 2, 'B': 4, 'C': 8}]\n"
     ]
    }
   ],
   "source": [
    "solver = GenerateAndTest()\n",
    "print(list(solver.solve(cryptarithm)))\n",
    "# %timeit list(solver.solve(cryptarithm))"
   ]
  },
  {
   "cell_type": "code",
   "execution_count": 11,
   "metadata": {},
   "outputs": [
    {
     "name": "stdout",
     "output_type": "stream",
     "text": [
      "[{'B': 2, 'a': 3, 'C': 6}, {'B': 2, 'a': 4, 'C': 8}, {'B': 3, 'a': 2, 'C': 6}, {'B': 4, 'a': 2, 'C': 8}]\n"
     ]
    }
   ],
   "source": [
    "solver = Enumerate()\n",
    "print(list(solver.solve(cryptarithm)))\n",
    "# %timeit list(solver.solve(cryptarithm))"
   ]
  }
 ],
 "metadata": {
  "kernelspec": {
   "display_name": ".venv",
   "language": "python",
   "name": "python3"
  },
  "language_info": {
   "codemirror_mode": {
    "name": "ipython",
    "version": 3
   },
   "file_extension": ".py",
   "mimetype": "text/x-python",
   "name": "python",
   "nbconvert_exporter": "python",
   "pygments_lexer": "ipython3",
   "version": "3.10.11"
  }
 },
 "nbformat": 4,
 "nbformat_minor": 2
}

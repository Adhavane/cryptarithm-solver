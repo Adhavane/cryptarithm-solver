{
 "cells": [
  {
   "cell_type": "code",
   "execution_count": 4,
   "metadata": {},
   "outputs": [],
   "source": [
    "import re\n",
    "from typing import Dict, Generator, List, Set\n",
    "\n",
    "from pyswip import Prolog"
   ]
  },
  {
   "cell_type": "code",
   "execution_count": 2,
   "metadata": {},
   "outputs": [
    {
     "data": {
      "text/plain": [
       "[{'X': 'john'}, {'X': 'gina'}]"
      ]
     },
     "execution_count": 2,
     "metadata": {},
     "output_type": "execute_result"
    }
   ],
   "source": [
    "prolog = Prolog()\n",
    "prolog.assertz(\"father(michael,john)\")\n",
    "prolog.assertz(\"father(michael,gina)\")\n",
    "list(prolog.query(\"father(michael,X)\"))  # [{'X': 'john'}, {'X': 'gina'}]"
   ]
  },
  {
   "cell_type": "code",
   "execution_count": 13,
   "metadata": {},
   "outputs": [
    {
     "name": "stdout",
     "output_type": "stream",
     "text": [
      "[{'X': 'john'}, {'X': 'gina'}]\n",
      "[]\n",
      "[]\n",
      "[{'X': 'john'}, {'X': 'gina'}]\n"
     ]
    }
   ],
   "source": [
    "prolog1.consult(\"knowledge_base1.pl\")\n",
    "print(list(prolog1.query(\"father(michael,X)\")))\n",
    "print(list(prolog2.query(\"father(peter,X)\")))\n",
    "prolog2 = Prolog()\n",
    "prolog2.consult(\"knowledge_base2.pl\")\n",
    "print(list(prolog1.query(\"father(michael,X)\")))\n",
    "print(list(prolog2.query(\"father(peter,X)\")))"
   ]
  }
 ],
 "metadata": {
  "kernelspec": {
   "display_name": ".venv",
   "language": "python",
   "name": "python3"
  },
  "language_info": {
   "codemirror_mode": {
    "name": "ipython",
    "version": 3
   },
   "file_extension": ".py",
   "mimetype": "text/x-python",
   "name": "python",
   "nbconvert_exporter": "python",
   "pygments_lexer": "ipython3",
   "version": "3.10.11"
  }
 },
 "nbformat": 4,
 "nbformat_minor": 2
}

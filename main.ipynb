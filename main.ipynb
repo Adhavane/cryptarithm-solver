{
 "cells": [
  {
   "cell_type": "code",
   "execution_count": 9,
   "metadata": {},
   "outputs": [],
   "source": [
    "import pyswip, ctypes\n",
    "\n",
    "class PrologMT(pyswip.Prolog):\n",
    "    \"\"\"Multi-threaded (one-to-one) pyswip.Prolog ad-hoc reimpl\"\"\"\n",
    "    _swipl = pyswip.core._lib\n",
    "\n",
    "    PL_thread_self = _swipl.PL_thread_self\n",
    "    PL_thread_self.restype = ctypes.c_int\n",
    "\n",
    "    PL_thread_attach_engine = _swipl.PL_thread_attach_engine\n",
    "    PL_thread_attach_engine.argtypes = [ctypes.c_void_p]\n",
    "    PL_thread_attach_engine.restype = ctypes.c_int\n",
    "\n",
    "    @classmethod\n",
    "    def _init_prolog_thread(cls):\n",
    "        pengine_id = cls.PL_thread_self()\n",
    "        if (pengine_id == -1):\n",
    "            pengine_id = cls.PL_thread_attach_engine(None)\n",
    "            print(\"{INFO} attach pengine to thread: %d\" % pengine_id)\n",
    "        if (pengine_id == -1):\n",
    "            raise pyswip.prolog.PrologError(\"Unable to attach new Prolog engine to the thread\")\n",
    "        elif (pengine_id == -2):\n",
    "            print(\"{WARN} Single-threaded swipl build, beware!\")\n",
    "\n",
    "    class _QueryWrapper(pyswip.Prolog._QueryWrapper):\n",
    "        def __call__(self, *args, **kwargs):\n",
    "            PrologMT._init_prolog_thread()\n",
    "            return super().__call__(*args, **kwargs)"
   ]
  },
  {
   "cell_type": "code",
   "execution_count": 13,
   "metadata": {},
   "outputs": [
    {
     "name": "stdout",
     "output_type": "stream",
     "text": [
      "{INFO} attach pengine to thread: 20\n",
      "{INFO} attach pengine to thread: 21\n",
      "[{'X': 'bob'}, {'X': 'brian'}]thread2\n",
      "[{'X': 'alison'}]\n"
     ]
    }
   ],
   "source": [
    "# For each Prolog() instance, a new thread is created\n",
    "from threading import Thread\n",
    "\n",
    "def run_prolog_thread():\n",
    "    prolog = PrologMT()\n",
    "    prolog.consult(\"knowledge_base1.pl\")\n",
    "    print(list(prolog.query(\"father(michael,X)\")))\n",
    "\n",
    "def run_prolog_thread2():\n",
    "    prolog = PrologMT()\n",
    "    prolog.consult(\"knowledge_base2.pl\")\n",
    "    print(str(list(prolog.query(\"father(peter,X)\"))) + 'thread2')\n",
    "\n",
    "\n",
    "thread = Thread(target=run_prolog_thread)\n",
    "thread2 = Thread(target=run_prolog_thread2)\n",
    "thread.start()\n",
    "thread2.start()\n",
    "thread.join()\n",
    "thread2.join()"
   ]
  },
  {
   "cell_type": "code",
   "execution_count": 2,
   "metadata": {},
   "outputs": [],
   "source": [
    "from cripthmik.solve import GenerateAndTest, Enumerate, ConstraintProgramming\n",
    "from cripthmik.utils import Cryptarithm"
   ]
  },
  {
   "cell_type": "code",
   "execution_count": 13,
   "metadata": {},
   "outputs": [],
   "source": [
    "cryptarithm = Cryptarithm(\"SEND + MORE = MONEY\")\n",
    "cryptarithm = Cryptarithm(\"a * B = C\", case_sensitive=True)"
   ]
  },
  {
   "cell_type": "code",
   "execution_count": 14,
   "metadata": {},
   "outputs": [
    {
     "ename": "PrologError",
     "evalue": "Caused by: 'solve([[a], *, [B], =, [C]]), label([a,C,B])'. Returned: 'error(type_error(integer, a), _11640)'.",
     "output_type": "error",
     "traceback": [
      "\u001b[1;31m---------------------------------------------------------------------------\u001b[0m",
      "\u001b[1;31mPrologError\u001b[0m                               Traceback (most recent call last)",
      "Cell \u001b[1;32mIn[14], line 2\u001b[0m\n\u001b[0;32m      1\u001b[0m solver \u001b[38;5;241m=\u001b[39m ConstraintProgramming()\n\u001b[1;32m----> 2\u001b[0m \u001b[38;5;28mprint\u001b[39m(\u001b[38;5;28;43mlist\u001b[39;49m\u001b[43m(\u001b[49m\u001b[43msolver\u001b[49m\u001b[38;5;241;43m.\u001b[39;49m\u001b[43msolve\u001b[49m\u001b[43m(\u001b[49m\u001b[43mcryptarithm\u001b[49m\u001b[43m)\u001b[49m\u001b[43m)\u001b[49m)\n\u001b[0;32m      3\u001b[0m \u001b[38;5;66;03m# %timeit list(solver.solve(cryptarithm))\u001b[39;00m\n",
      "File \u001b[1;32mc:\\Users\\Moudougannane\\Desktop\\github\\prolog-cryptarithm-solver\\cripthmik\\solve\\_prolog.py:92\u001b[0m, in \u001b[0;36mPrologSolver.solve\u001b[1;34m(self, cryptarithm, allow_zero, allow_leading_zero)\u001b[0m\n\u001b[0;32m     90\u001b[0m \u001b[38;5;66;03m# Raise an exception if an error occurred\u001b[39;00m\n\u001b[0;32m     91\u001b[0m \u001b[38;5;28;01mif\u001b[39;00m \u001b[38;5;129;01mnot\u001b[39;00m error_end\u001b[38;5;241m.\u001b[39mempty():\n\u001b[1;32m---> 92\u001b[0m     \u001b[38;5;28;01mraise\u001b[39;00m error_channel\u001b[38;5;241m.\u001b[39mget()\n\u001b[0;32m     94\u001b[0m \u001b[38;5;66;03m# Close the queues\u001b[39;00m\n\u001b[0;32m     95\u001b[0m result_channel\u001b[38;5;241m.\u001b[39mclose()\n",
      "\u001b[1;31mPrologError\u001b[0m: Caused by: 'solve([[a], *, [B], =, [C]]), label([a,C,B])'. Returned: 'error(type_error(integer, a), _11640)'."
     ]
    }
   ],
   "source": [
    "solver = ConstraintProgramming()\n",
    "print(list(solver.solve(cryptarithm)))\n",
    "%timeit list(solver.solve(cryptarithm))"
   ]
  },
  {
   "cell_type": "code",
   "execution_count": 10,
   "metadata": {},
   "outputs": [
    {
     "name": "stdout",
     "output_type": "stream",
     "text": [
      "[{'A': 3, 'B': 2, 'C': 6}, {'A': 4, 'B': 2, 'C': 8}, {'A': 2, 'B': 3, 'C': 6}, {'A': 2, 'B': 4, 'C': 8}]\n",
      "592 ms ± 81.6 ms per loop (mean ± std. dev. of 7 runs, 1 loop each)\n"
     ]
    }
   ],
   "source": [
    "solver = GenerateAndTest()\n",
    "print(list(solver.solve(cryptarithm)))\n",
    "%timeit list(solver.solve(cryptarithm))"
   ]
  },
  {
   "cell_type": "code",
   "execution_count": 15,
   "metadata": {},
   "outputs": [
    {
     "name": "stdout",
     "output_type": "stream",
     "text": [
      "[{'a': 2, 'C': 6, 'B': 3}, {'a': 2, 'C': 8, 'B': 4}, {'a': 3, 'C': 6, 'B': 2}, {'a': 4, 'C': 8, 'B': 2}]\n",
      "24.9 ms ± 4.67 ms per loop (mean ± std. dev. of 7 runs, 10 loops each)\n"
     ]
    }
   ],
   "source": [
    "solver = Enumerate()\n",
    "print(list(solver.solve(cryptarithm)))\n",
    "%timeit list(solver.solve(cryptarithm))"
   ]
  }
 ],
 "metadata": {
  "kernelspec": {
   "display_name": ".venv",
   "language": "python",
   "name": "python3"
  },
  "language_info": {
   "codemirror_mode": {
    "name": "ipython",
    "version": 3
   },
   "file_extension": ".py",
   "mimetype": "text/x-python",
   "name": "python",
   "nbconvert_exporter": "python",
   "pygments_lexer": "ipython3",
   "version": "3.10.11"
  }
 },
 "nbformat": 4,
 "nbformat_minor": 2
}

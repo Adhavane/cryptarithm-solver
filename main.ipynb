{
 "cells": [
  {
   "cell_type": "code",
   "execution_count": 1,
   "metadata": {},
   "outputs": [],
   "source": [
    "import re\n",
    "from typing import Dict, List, Set\n",
    "\n",
    "from pyswip import Prolog"
   ]
  },
  {
   "cell_type": "code",
   "execution_count": 2,
   "metadata": {},
   "outputs": [
    {
     "data": {
      "text/plain": [
       "[{'X': 'john'}, {'X': 'gina'}]"
      ]
     },
     "execution_count": 2,
     "metadata": {},
     "output_type": "execute_result"
    }
   ],
   "source": [
    "prolog = Prolog()\n",
    "prolog.assertz(\"father(michael,john)\")\n",
    "prolog.assertz(\"father(michael,gina)\")\n",
    "list(prolog.query(\"father(michael,X)\"))  # [{'X': 'john'}, {'X': 'gina'}]"
   ]
  },
  {
   "cell_type": "code",
   "execution_count": 3,
   "metadata": {},
   "outputs": [],
   "source": [
    "cryptarithms = [\n",
    "    \"SEND + MORE == MONEY\",\n",
    "    \"VIOLIN + VIOLA == TRIO\",\n",
    "    \"ODD + ODD == EVEN\",\n",
    "]"
   ]
  },
  {
   "cell_type": "code",
   "execution_count": 4,
   "metadata": {},
   "outputs": [],
   "source": [
    "def get_vars(expr: str) -> Set[str]:\n",
    "    return set(re.findall(r\"[A-Z]\", expr))"
   ]
  },
  {
   "cell_type": "code",
   "execution_count": 5,
   "metadata": {},
   "outputs": [
    {
     "data": {
      "text/plain": [
       "{'D', 'E', 'M', 'N', 'O', 'R', 'S', 'Y'}"
      ]
     },
     "execution_count": 5,
     "metadata": {},
     "output_type": "execute_result"
    }
   ],
   "source": [
    "get_vars(cryptarithms[0])"
   ]
  },
  {
   "cell_type": "code",
   "execution_count": 46,
   "metadata": {},
   "outputs": [],
   "source": [
    "rules = {\n",
    "    \"digit(X) :- member(X, [0, 1, 2, 3, 4, 5, 6, 7, 8, 9])\",\n",
    "    \"all_diff([])\",\n",
    "    \"all_diff([H|T]) :- \\+member(H, T), all_diff(T)\",\n",
    "    \"\"\"\n",
    "    solve([O, D, D], [O, D, D], [E, V, E, N]) :-\n",
    "        % génération des chiffres\n",
    "        digit(O), digit(D),\n",
    "        digit(E), digit(V), digit(N),\n",
    "        % test que O et E sont différents de 0\n",
    "        O =\\= 0, E =\\= 0,\n",
    "        % test de la somme\n",
    "        all_diff([O, D, E, V, N]),\n",
    "                   100 * O + 10 * D + D +\n",
    "                   100 * O + 10 * D + D =:=\n",
    "        1000 * E + 100 * V + 10 * E + N\n",
    "    \"\"\",\n",
    "}\n",
    "for rule in rules:\n",
    "    prolog.assertz(rule)"
   ]
  },
  {
   "cell_type": "code",
   "execution_count": 47,
   "metadata": {},
   "outputs": [],
   "source": [
    "query = \"solve([O, D, D], [O, D, D], [E, V, E, N])\"\n",
    "list(prolog.query(query))"
   ]
  },
  {
   "cell_type": "code",
   "execution_count": 6,
   "metadata": {},
   "outputs": [],
   "source": [
    "def all_digit(expr: str) -> Set[str]:\n",
    "    return {f\"digit({char})\" for char in get_vars(expr)}"
   ]
  },
  {
   "cell_type": "code",
   "execution_count": 7,
   "metadata": {},
   "outputs": [
    {
     "data": {
      "text/plain": [
       "{'digit(D)', 'digit(E)', 'digit(N)', 'digit(O)', 'digit(V)'}"
      ]
     },
     "execution_count": 7,
     "metadata": {},
     "output_type": "execute_result"
    }
   ],
   "source": [
    "all_digit(cryptarithms[2])"
   ]
  },
  {
   "cell_type": "code",
   "execution_count": 8,
   "metadata": {},
   "outputs": [],
   "source": [
    "def all_diff(expr: str) -> str:\n",
    "    return f\"all_diff([{', '.join(get_vars(expr))}])\""
   ]
  },
  {
   "cell_type": "code",
   "execution_count": 9,
   "metadata": {},
   "outputs": [
    {
     "data": {
      "text/plain": [
       "'all_diff([D, O, N, E, V])'"
      ]
     },
     "execution_count": 9,
     "metadata": {},
     "output_type": "execute_result"
    }
   ],
   "source": [
    "all_diff(cryptarithms[2])"
   ]
  },
  {
   "cell_type": "code",
   "execution_count": 24,
   "metadata": {},
   "outputs": [],
   "source": [
    "def generate(\n",
    "    expr: str, allow_zero: bool = True, allow_leading_zero: bool = False\n",
    ") -> Set[str]:\n",
    "    generated = all_digit(expr)\n",
    "    generated.add(all_diff(expr))\n",
    "    if not allow_zero:\n",
    "        for char in get_vars(expr):\n",
    "            generated.add(f\"dif({char}, 0)\")\n",
    "    if not allow_leading_zero:\n",
    "        for char in set(re.findall(r'\\b(\\w)', expr)):\n",
    "            generated.add(f\"dif({char}, 0)\")\n",
    "    if allow_leading_zero:\n",
    "        for char in set(re.findall(r'\\b(\\w)', expr)):\n",
    "            if f\"dif({char}, 0)\" in generated:\n",
    "                generated.remove(f\"dif({char}, 0)\")\n",
    "    return generated"
   ]
  },
  {
   "cell_type": "code",
   "execution_count": 28,
   "metadata": {},
   "outputs": [
    {
     "data": {
      "text/plain": [
       "{'all_diff([D, O, N, E, V])',\n",
       " 'dif(D, 0)',\n",
       " 'dif(N, 0)',\n",
       " 'dif(V, 0)',\n",
       " 'digit(D)',\n",
       " 'digit(E)',\n",
       " 'digit(N)',\n",
       " 'digit(O)',\n",
       " 'digit(V)'}"
      ]
     },
     "execution_count": 28,
     "metadata": {},
     "output_type": "execute_result"
    }
   ],
   "source": [
    "generate(cryptarithms[2], allow_zero=False, allow_leading_zero=True)"
   ]
  },
  {
   "cell_type": "code",
   "execution_count": null,
   "metadata": {},
   "outputs": [],
   "source": [
    "def solve(\n",
    "    expr: str, allow_zero: bool = True, allow_leading_zero: bool = False\n",
    ") -> List[Dict[str, int]]:\n",
    "    # rule = \"solve(\"\n",
    "    # for char in get_letters(expression):\n",
    "    #     rule += f\"{char}, \"\n",
    "    # rule = rule[:-2] + \") :- \"\n",
    "\n",
    "    # for r in generate(expression, allow_zero, allow_leading_zero):\n",
    "    #     rule += r + \", \"\n",
    "    # for r in test(expression):\n",
    "    #     rule += r.replace(\"=\", \"=:=\") + \", \"\n",
    "    # rule = rule[:-2]\n",
    "\n",
    "    # # print(rule)\n",
    "    # prolog.assertz(rule)\n",
    "\n",
    "    # query = \"solve(\"\n",
    "    # for char in get_letters(expression):\n",
    "    #     query += char + \", \"\n",
    "    # query = query[:-2] + \")\"\n",
    "\n",
    "    # result = list(prolog.query(query))\n",
    "    # # remove duplicates\n",
    "    # result = [dict(t) for t in {tuple(d.items()) for d in result}]\n",
    "    # return result"
   ]
  }
 ],
 "metadata": {
  "kernelspec": {
   "display_name": ".venv",
   "language": "python",
   "name": "python3"
  },
  "language_info": {
   "codemirror_mode": {
    "name": "ipython",
    "version": 3
   },
   "file_extension": ".py",
   "mimetype": "text/x-python",
   "name": "python",
   "nbconvert_exporter": "python",
   "pygments_lexer": "ipython3",
   "version": "3.10.11"
  }
 },
 "nbformat": 4,
 "nbformat_minor": 2
}

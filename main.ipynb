{
 "cells": [
  {
   "cell_type": "code",
   "execution_count": 13,
   "metadata": {},
   "outputs": [],
   "source": [
    "import re\n",
    "from typing import Dict, List\n",
    "\n",
    "from pyswip import Prolog"
   ]
  },
  {
   "cell_type": "code",
   "execution_count": 12,
   "metadata": {},
   "outputs": [
    {
     "data": {
      "text/plain": [
       "[{'X': 'john'},\n",
       " {'X': 'gina'},\n",
       " {'X': 'john'},\n",
       " {'X': 'gina'},\n",
       " {'X': 'john'},\n",
       " {'X': 'gina'},\n",
       " {'X': 'john'},\n",
       " {'X': 'gina'},\n",
       " {'X': 'john'},\n",
       " {'X': 'gina'},\n",
       " {'X': 'john'},\n",
       " {'X': 'gina'},\n",
       " {'X': 'john'},\n",
       " {'X': 'gina'}]"
      ]
     },
     "execution_count": 12,
     "metadata": {},
     "output_type": "execute_result"
    }
   ],
   "source": [
    "prolog = Prolog()\n",
    "prolog.assertz(\"father(michael,john)\")\n",
    "prolog.assertz(\"father(michael,gina)\")\n",
    "list(prolog.query(\"father(michael,X)\"))  # [{'X': 'john'}, {'X': 'gina'}]"
   ]
  },
  {
   "cell_type": "code",
   "execution_count": 22,
   "metadata": {},
   "outputs": [],
   "source": [
    "cryptarithms = [\n",
    "    \"SEND + MORE == MONEY\",\n",
    "    \"VIOLIN + VIOLA == TRIO\",\n",
    "    \"ODD + ODD == EVEN\",\n",
    "]"
   ]
  },
  {
   "cell_type": "code",
   "execution_count": 23,
   "metadata": {},
   "outputs": [],
   "source": [
    "def get_vars(expression: str) -> List[str]:\n",
    "    return list(set(re.findall(r\"[A-Z]\", expression)))"
   ]
  },
  {
   "cell_type": "code",
   "execution_count": 25,
   "metadata": {},
   "outputs": [
    {
     "data": {
      "text/plain": [
       "['E', 'R', 'M', 'N', 'D', 'S', 'Y', 'O']"
      ]
     },
     "execution_count": 25,
     "metadata": {},
     "output_type": "execute_result"
    }
   ],
   "source": [
    "get_vars(cryptarithms[0])"
   ]
  },
  {
   "cell_type": "code",
   "execution_count": null,
   "metadata": {},
   "outputs": [],
   "source": []
  }
 ],
 "metadata": {
  "kernelspec": {
   "display_name": ".venv",
   "language": "python",
   "name": "python3"
  },
  "language_info": {
   "codemirror_mode": {
    "name": "ipython",
    "version": 3
   },
   "file_extension": ".py",
   "mimetype": "text/x-python",
   "name": "python",
   "nbconvert_exporter": "python",
   "pygments_lexer": "ipython3",
   "version": "3.10.11"
  }
 },
 "nbformat": 4,
 "nbformat_minor": 2
}

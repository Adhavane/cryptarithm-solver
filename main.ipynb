{
 "cells": [
  {
   "cell_type": "code",
   "execution_count": 2,
   "metadata": {},
   "outputs": [],
   "source": [
    "import re\n",
    "from typing import Dict, Generator, List, Set"
   ]
  },
  {
   "cell_type": "code",
   "execution_count": 3,
   "metadata": {},
   "outputs": [],
   "source": [
    "from pyswip import Prolog"
   ]
  },
  {
   "cell_type": "code",
   "execution_count": 12,
   "metadata": {},
   "outputs": [
    {
     "name": "stdout",
     "output_type": "stream",
     "text": [
      "[{'X': 'bob'}, {'X': 'brian'}]\n",
      "[]\n",
      "[{'X': 'bob'}, {'X': 'brian'}]\n",
      "[]\n"
     ]
    }
   ],
   "source": [
    "prolog1 = Prolog()\n",
    "prolog2 = Prolog()\n",
    "\n",
    "prolog1.consult(\"knowledge_base1.pl\")\n",
    "prolog2.consult(\"knowledge_base2.pl\")\n",
    "\n",
    "print(list(prolog1.query(\"father(michael,X)\")))\n",
    "print(list(prolog2.query(\"father(peter,X)\")))\n",
    "print(list(prolog1.query(\"father(michael,X)\")))\n",
    "print(list(prolog2.query(\"father(peter,X)\")))"
   ]
  },
  {
   "cell_type": "code",
   "execution_count": 9,
   "metadata": {},
   "outputs": [],
   "source": [
    "import pyswip, ctypes\n",
    "\n",
    "class PrologMT(pyswip.Prolog):\n",
    "    \"\"\"Multi-threaded (one-to-one) pyswip.Prolog ad-hoc reimpl\"\"\"\n",
    "    _swipl = pyswip.core._lib\n",
    "\n",
    "    PL_thread_self = _swipl.PL_thread_self\n",
    "    PL_thread_self.restype = ctypes.c_int\n",
    "\n",
    "    PL_thread_attach_engine = _swipl.PL_thread_attach_engine\n",
    "    PL_thread_attach_engine.argtypes = [ctypes.c_void_p]\n",
    "    PL_thread_attach_engine.restype = ctypes.c_int\n",
    "\n",
    "    @classmethod\n",
    "    def _init_prolog_thread(cls):\n",
    "        pengine_id = cls.PL_thread_self()\n",
    "        if (pengine_id == -1):\n",
    "            pengine_id = cls.PL_thread_attach_engine(None)\n",
    "            print(\"{INFO} attach pengine to thread: %d\" % pengine_id)\n",
    "        if (pengine_id == -1):\n",
    "            raise pyswip.prolog.PrologError(\"Unable to attach new Prolog engine to the thread\")\n",
    "        elif (pengine_id == -2):\n",
    "            print(\"{WARN} Single-threaded swipl build, beware!\")\n",
    "\n",
    "    class _QueryWrapper(pyswip.Prolog._QueryWrapper):\n",
    "        def __call__(self, *args, **kwargs):\n",
    "            PrologMT._init_prolog_thread()\n",
    "            return super().__call__(*args, **kwargs)"
   ]
  },
  {
   "cell_type": "code",
   "execution_count": 13,
   "metadata": {},
   "outputs": [
    {
     "name": "stdout",
     "output_type": "stream",
     "text": [
      "{INFO} attach pengine to thread: 20\n",
      "{INFO} attach pengine to thread: 21\n",
      "[{'X': 'bob'}, {'X': 'brian'}]thread2\n",
      "[{'X': 'alison'}]\n"
     ]
    }
   ],
   "source": [
    "# For each Prolog() instance, a new thread is created\n",
    "from threading import Thread\n",
    "\n",
    "def run_prolog_thread():\n",
    "    prolog = PrologMT()\n",
    "    prolog.consult(\"knowledge_base1.pl\")\n",
    "    print(list(prolog.query(\"father(michael,X)\")))\n",
    "\n",
    "def run_prolog_thread2():\n",
    "    prolog = PrologMT()\n",
    "    prolog.consult(\"knowledge_base2.pl\")\n",
    "    print(str(list(prolog.query(\"father(peter,X)\"))) + 'thread2')\n",
    "\n",
    "\n",
    "thread = Thread(target=run_prolog_thread)\n",
    "thread2 = Thread(target=run_prolog_thread2)\n",
    "thread.start()\n",
    "thread2.start()\n",
    "thread.join()\n",
    "thread2.join()"
   ]
  }
 ],
 "metadata": {
  "kernelspec": {
   "display_name": ".venv",
   "language": "python",
   "name": "python3"
  },
  "language_info": {
   "codemirror_mode": {
    "name": "ipython",
    "version": 3
   },
   "file_extension": ".py",
   "mimetype": "text/x-python",
   "name": "python",
   "nbconvert_exporter": "python",
   "pygments_lexer": "ipython3",
   "version": "3.10.11"
  }
 },
 "nbformat": 4,
 "nbformat_minor": 2
}

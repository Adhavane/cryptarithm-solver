{
 "cells": [
  {
   "cell_type": "code",
   "execution_count": 1,
   "metadata": {},
   "outputs": [],
   "source": [
    "import re\n",
    "from typing import Dict, List, Set\n",
    "\n",
    "from pyswip import Prolog"
   ]
  },
  {
   "cell_type": "code",
   "execution_count": 3,
   "metadata": {},
   "outputs": [
    {
     "data": {
      "text/plain": [
       "[{'X': 'john'}, {'X': 'gina'}, {'X': 'john'}, {'X': 'gina'}]"
      ]
     },
     "execution_count": 3,
     "metadata": {},
     "output_type": "execute_result"
    }
   ],
   "source": [
    "prolog = Prolog()\n",
    "prolog.assertz(\"father(michael,john)\")\n",
    "prolog.assertz(\"father(michael,gina)\")\n",
    "list(prolog.query(\"father(michael,X)\"))  # [{'X': 'john'}, {'X': 'gina'}]"
   ]
  },
  {
   "cell_type": "code",
   "execution_count": 4,
   "metadata": {},
   "outputs": [],
   "source": [
    "cryptarithms = [\n",
    "    \"SEND + MORE #= MONEY\",\n",
    "    \"VIOLIN + VIOLA #= TRIO\",\n",
    "    \"ODD + ODD =:= EVEN\",\n",
    "]"
   ]
  },
  {
   "cell_type": "code",
   "execution_count": 5,
   "metadata": {},
   "outputs": [],
   "source": [
    "def get_vars(expr: str) -> Set[str]:\n",
    "    return set(re.findall(r\"[A-Z]\", expr))"
   ]
  },
  {
   "cell_type": "code",
   "execution_count": 7,
   "metadata": {},
   "outputs": [
    {
     "data": {
      "text/plain": [
       "{'D', 'E', 'M', 'N', 'O', 'R', 'S', 'Y'}"
      ]
     },
     "execution_count": 7,
     "metadata": {},
     "output_type": "execute_result"
    }
   ],
   "source": [
    "get_vars(cryptarithms[0])"
   ]
  },
  {
   "cell_type": "code",
   "execution_count": 8,
   "metadata": {},
   "outputs": [],
   "source": [
    "rules = [\n",
    "    \":- use_module(library(clpfd))\",\n",
    "    \"digit(X) :- member(X, [0, 1, 2, 3, 4, 5, 6, 7, 8, 9])\",\n",
    "    \"all_diff([])\",\n",
    "    \"all_diff([H|T]) :- \\+member(H, T), all_diff(T)\",\n",
    "    \"\"\"\n",
    "    solve([[O, D, D], +, [O, D, D], =:=, [E, V, E, N]]) :-\n",
    "        % génération des chiffres\n",
    "        digit(O), digit(D),\n",
    "        digit(E), digit(V), digit(N),\n",
    "        % test que O et E sont différents de 0\n",
    "        O =\\= 0, E =\\= 0,\n",
    "        % test de la somme\n",
    "        all_diff([O, D, E, V, N]),\n",
    "                   100 * O + 10 * D + D +\n",
    "                   100 * O + 10 * D + D =:=\n",
    "        1000 * E + 100 * V + 10 * E + N\n",
    "    \"\"\",\n",
    "]\n",
    "\n",
    "for rule in rules:\n",
    "    prolog.assertz(rule)"
   ]
  },
  {
   "cell_type": "code",
   "execution_count": 9,
   "metadata": {},
   "outputs": [],
   "source": [
    "query = \"solve([[O, D, D], +, [O, D, D], =:=, [E, V, E, N]])\"\n",
    "list(prolog.query(query))"
   ]
  },
  {
   "cell_type": "code",
   "execution_count": 8,
   "metadata": {},
   "outputs": [],
   "source": [
    "def all_digit(expr: str) -> Set[str]:\n",
    "    return {f\"digit({char})\" for char in get_vars(expr)}"
   ]
  },
  {
   "cell_type": "code",
   "execution_count": 9,
   "metadata": {},
   "outputs": [
    {
     "data": {
      "text/plain": [
       "{'digit(D)', 'digit(E)', 'digit(N)', 'digit(O)', 'digit(V)'}"
      ]
     },
     "execution_count": 9,
     "metadata": {},
     "output_type": "execute_result"
    }
   ],
   "source": [
    "all_digit(cryptarithms[2])"
   ]
  },
  {
   "cell_type": "code",
   "execution_count": 10,
   "metadata": {},
   "outputs": [],
   "source": [
    "def all_diff(expr: str) -> str:\n",
    "    return f\"all_diff([{', '.join(get_vars(expr))}])\""
   ]
  },
  {
   "cell_type": "code",
   "execution_count": 11,
   "metadata": {},
   "outputs": [
    {
     "data": {
      "text/plain": [
       "'all_diff([N, O, E, D, V])'"
      ]
     },
     "execution_count": 11,
     "metadata": {},
     "output_type": "execute_result"
    }
   ],
   "source": [
    "all_diff(cryptarithms[2])"
   ]
  },
  {
   "cell_type": "code",
   "execution_count": 12,
   "metadata": {},
   "outputs": [],
   "source": [
    "def generate(\n",
    "    expr: str, allow_zero: bool = True, allow_leading_zero: bool = False\n",
    ") -> List[str]:\n",
    "    generated = []\n",
    "    generated += list(all_digit(expr))\n",
    "    generated.append(all_diff(expr))\n",
    "    if not allow_zero:\n",
    "        for char in get_vars(expr):\n",
    "            generated.append(f\"dif({char}, 0)\")\n",
    "    if not allow_leading_zero:\n",
    "        for char in set(re.findall(r'\\b(\\w)', expr)):\n",
    "            generated.append(f\"dif({char}, 0)\")\n",
    "    if allow_leading_zero:\n",
    "        for char in set(re.findall(r'\\b(\\w)', expr)):\n",
    "            if f\"dif({char}, 0)\" in generated:\n",
    "                generated.remove(f\"dif({char}, 0)\")\n",
    "    return generated"
   ]
  },
  {
   "cell_type": "code",
   "execution_count": 13,
   "metadata": {},
   "outputs": [
    {
     "data": {
      "text/plain": [
       "['digit(O)',\n",
       " 'digit(V)',\n",
       " 'digit(D)',\n",
       " 'digit(E)',\n",
       " 'digit(N)',\n",
       " 'all_diff([N, O, E, D, V])',\n",
       " 'dif(N, 0)',\n",
       " 'dif(D, 0)',\n",
       " 'dif(V, 0)']"
      ]
     },
     "execution_count": 13,
     "metadata": {},
     "output_type": "execute_result"
    }
   ],
   "source": [
    "generate(cryptarithms[2], allow_zero=False, allow_leading_zero=True)"
   ]
  },
  {
   "cell_type": "code",
   "execution_count": 14,
   "metadata": {},
   "outputs": [],
   "source": [
    "def test(expr: str) -> str:\n",
    "    operands = re.findall(r\"[A-Z]+\", expr)\n",
    "    operators = re.findall(r\"[+\\-*/]|mod|#=|=:=\", expr)\n",
    "\n",
    "    rule = \"\"\n",
    "    for i in range(len(operators)):\n",
    "        rule += \"(\"\n",
    "        for char, coef in zip(operands[i], range(len(operands[i]), 0, -1)):\n",
    "            rule += f\"{10 ** (coef - 1)} * {char} + \"\n",
    "        rule = rule[:-3] + \")\"\n",
    "        rule += f\" {operators[i]} \"\n",
    "    rule += \"(\"\n",
    "    for char, coef in zip(operands[-1], range(len(operands[-1]), 0, -1)):\n",
    "        rule += f\"{10 ** (coef - 1)} * {char} + \"\n",
    "    rule = rule[:-3] + \")\"\n",
    "\n",
    "    return rule"
   ]
  },
  {
   "cell_type": "code",
   "execution_count": 15,
   "metadata": {},
   "outputs": [
    {
     "data": {
      "text/plain": [
       "'(100 * O + 10 * D + 1 * D) + (100 * O + 10 * D + 1 * D) =:= (1000 * E + 100 * V + 10 * E + 1 * N)'"
      ]
     },
     "execution_count": 15,
     "metadata": {},
     "output_type": "execute_result"
    }
   ],
   "source": [
    "test(cryptarithms[2])"
   ]
  },
  {
   "cell_type": "code",
   "execution_count": 16,
   "metadata": {},
   "outputs": [],
   "source": [
    "def get_operators(expr: str) -> List[str]:\n",
    "    return re.findall(r\"[+\\-*/]|mod|#=|=:=\", expr)"
   ]
  },
  {
   "cell_type": "code",
   "execution_count": 17,
   "metadata": {},
   "outputs": [
    {
     "data": {
      "text/plain": [
       "['+', '#=']"
      ]
     },
     "execution_count": 17,
     "metadata": {},
     "output_type": "execute_result"
    }
   ],
   "source": [
    "get_operators(cryptarithms[1])"
   ]
  },
  {
   "cell_type": "code",
   "execution_count": 18,
   "metadata": {},
   "outputs": [],
   "source": [
    "def get_operands(expr: str) -> List[str]:\n",
    "    return re.findall(r\"[A-Z]+\", expr)"
   ]
  },
  {
   "cell_type": "code",
   "execution_count": 19,
   "metadata": {},
   "outputs": [
    {
     "data": {
      "text/plain": [
       "['ODD', 'ODD', 'EVEN']"
      ]
     },
     "execution_count": 19,
     "metadata": {},
     "output_type": "execute_result"
    }
   ],
   "source": [
    "get_operands(cryptarithms[2])"
   ]
  },
  {
   "cell_type": "code",
   "execution_count": 20,
   "metadata": {},
   "outputs": [],
   "source": [
    "def get_puzzle(expr: str) -> str:\n",
    "    operators = get_operators(expr)\n",
    "    operands = get_operands(expr)\n",
    "    return f\"solve([[{', '.join(operands[0])}], {operators[0]}, [{', '.join(operands[1])}], {operators[1]}, [{', '.join(operands[2])}]])\""
   ]
  },
  {
   "cell_type": "code",
   "execution_count": 21,
   "metadata": {},
   "outputs": [
    {
     "data": {
      "text/plain": [
       "'solve([[V, I, O, L, I, N], +, [V, I, O, L, A], #=, [T, R, I, O]])'"
      ]
     },
     "execution_count": 21,
     "metadata": {},
     "output_type": "execute_result"
    }
   ],
   "source": [
    "get_puzzle(cryptarithms[1])"
   ]
  },
  {
   "cell_type": "code",
   "execution_count": 22,
   "metadata": {},
   "outputs": [],
   "source": [
    "def get_rules() -> Set[str]:\n",
    "    rules = {\n",
    "        \":- use_module(library(clpfd))\",\n",
    "        \"digit(X) :- member(X, [0, 1, 2, 3, 4, 5, 6, 7, 8, 9])\",\n",
    "        \"all_diff([])\",\n",
    "        \"all_diff([H|T]) :- \\+member(H, T), all_diff(T)\",\n",
    "    }\n",
    "    return rules"
   ]
  },
  {
   "cell_type": "code",
   "execution_count": 23,
   "metadata": {},
   "outputs": [],
   "source": [
    "def solve(\n",
    "    expr: str, allow_zero: bool = True, allow_leading_zero: bool = False\n",
    ") -> List[Dict[str, int]]:\n",
    "    prolog = Prolog()\n",
    "    for rule in get_rules():\n",
    "        prolog.assertz(rule)\n",
    "\n",
    "    query = get_puzzle(expr)\n",
    "    rule = f\"{query} :- \"\n",
    "    rule += \", \".join(map(str, generate(expr, allow_zero, allow_leading_zero)))\n",
    "    rule += f\", {test(expr)}\"\n",
    "    \n",
    "    print(rule)\n",
    "    print(query)\n",
    "    prolog.assertz(rule)\n",
    "    \n",
    "    return list(prolog.query(query))"
   ]
  },
  {
   "cell_type": "code",
   "execution_count": 25,
   "metadata": {},
   "outputs": [
    {
     "name": "stdout",
     "output_type": "stream",
     "text": [
      "solve([[O, D, D], +, [O, D, D], =:=, [E, V, E, N]]) :- digit(O), digit(V), digit(D), digit(E), digit(N), all_diff([N, O, E, D, V]), dif(O, 0), dif(E, 0), (100 * O + 10 * D + 1 * D) + (100 * O + 10 * D + 1 * D) =:= (1000 * E + 100 * V + 10 * E + 1 * N)\n",
      "solve([[O, D, D], +, [O, D, D], =:=, [E, V, E, N]])\n"
     ]
    }
   ],
   "source": [
    "solve(cryptarithms[2])"
   ]
  }
 ],
 "metadata": {
  "kernelspec": {
   "display_name": ".venv",
   "language": "python",
   "name": "python3"
  },
  "language_info": {
   "codemirror_mode": {
    "name": "ipython",
    "version": 3
   },
   "file_extension": ".py",
   "mimetype": "text/x-python",
   "name": "python",
   "nbconvert_exporter": "python",
   "pygments_lexer": "ipython3",
   "version": "3.10.11"
  }
 },
 "nbformat": 4,
 "nbformat_minor": 2
}
